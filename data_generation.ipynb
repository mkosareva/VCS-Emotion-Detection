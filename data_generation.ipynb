{
  "nbformat": 4,
  "nbformat_minor": 0,
  "metadata": {
    "colab": {
      "name": "data_generation.ipynb",
      "provenance": []
    },
    "kernelspec": {
      "name": "python3",
      "display_name": "Python 3"
    },
    "language_info": {
      "name": "python"
    }
  },
  "cells": [
    {
      "cell_type": "code",
      "execution_count": null,
      "metadata": {
        "id": "TtbqC9VlTjQy"
      },
      "outputs": [],
      "source": [
        "import pandas as pd\n",
        "\n",
        "data = pd.read_csv('/content/drive/My Drive/Vision/faceexp-comparison-data-test-public.csv', error_bad_lines=False)\n",
        "data.head()"
      ]
    },
    {
      "cell_type": "code",
      "source": [
        "from PIL import Image\n",
        "import requests\n",
        "import cv2\n",
        "import numpy as np\n",
        "\n",
        "def get_array_from_im(url):\n",
        "  r = requests.get(url, allow_redirects=True)\n",
        "  f = open('image.png', 'wb')\n",
        "  f.write(r.content)\n",
        "  image = cv2.imread('image.png')\n",
        "  if image is not  None:\n",
        "    gray = cv2.cvtColor(image, cv2.COLOR_BGR2GRAY)\n",
        "    cascPath = \"haarcascade_frontalface_default.xml\"\n",
        "    faceCascade = cv2.CascadeClassifier(cascPath)\n",
        "    faces = faceCascade.detectMultiScale(\n",
        "        gray,\n",
        "        scaleFactor=1.1,\n",
        "        minNeighbors=5,\n",
        "        minSize=(30, 30),\n",
        "        flags = cv2.CASCADE_SCALE_IMAGE\n",
        "    )\n",
        "    if len(faces) != 0:\n",
        "      test_image = Image.open('image.png')\n",
        "      cropped_example = test_image.crop((faces[0][0], faces[0][1], faces[0][0]+faces[0][2], faces[0][1]+faces[0][3]))\n",
        "      resize_example = cropped_example.resize((299,299))\n",
        "      array = np.asarray(resize_example)\n",
        "      return array\n",
        "    return None\n",
        "  return None"
      ],
      "metadata": {
        "id": "SNjpJvPXTpit"
      },
      "execution_count": null,
      "outputs": []
    },
    {
      "cell_type": "code",
      "source": [
        "lines_for_data = []\n",
        "bd = 0\n",
        "for i, url in enumerate(data['url1']):\n",
        "  try:\n",
        "    try:\n",
        "      r1 = requests.get(url, allow_redirects=True)\n",
        "      url2 = data['url2'][i]\n",
        "      r2 = requests.get(url2, allow_redirects=True)\n",
        "      url3 = data['url3'][i]\n",
        "      r3 = requests.get(url3, allow_redirects=True)\n",
        "      if r1.headers.get('content-type') == 'text/html;charset=utf-8' or r2.headers.get('content-type') == 'text/html;charset=utf-8' or r3.headers.get('content-type') == 'text/html;charset=utf-8':\n",
        "        continue\n",
        "      labels = [int(data['emotion1'][i]), int(data['emotion2'][i]), int(data['emotion3'][i]), int(data['emotion4'][i]), int(data['emotion5'][i]), int(data['emotion6'][i])]\n",
        "      labels = np.array(labels)\n",
        "      label = np.bincount(labels).argmax()\n",
        "      array1 = get_array_from_im(url)\n",
        "      array2 = get_array_from_im(url2)\n",
        "      array3 = get_array_from_im(url3)\n",
        "      if array1 is None or array2 is None or array3 is None:\n",
        "        continue\n",
        "      lines_for_data.append([array1, array2, array3, label])\n",
        "    except ConnectionResetError:\n",
        "      bd += 1\n",
        "  except ValueError:\n",
        "    bd += 1"
      ],
      "metadata": {
        "id": "XchWHC0nTwNw"
      },
      "execution_count": null,
      "outputs": []
    },
    {
      "cell_type": "code",
      "source": [
        "print(len(lines_for_data))"
      ],
      "metadata": {
        "id": "AjKesel4T2gq"
      },
      "execution_count": null,
      "outputs": []
    },
    {
      "cell_type": "code",
      "source": [
        "def preprocess(image):\n",
        "  first_image = np.reshape(image, (268203,1))\n",
        "  pixels = []\n",
        "  for i in first_image:\n",
        "    pixels.append(i[0])\n",
        "  return str(pixels).replace('[', '').replace(']', '').replace(',', '')"
      ],
      "metadata": {
        "id": "mX0hmWTiT4eL"
      },
      "execution_count": null,
      "outputs": []
    },
    {
      "cell_type": "code",
      "source": [
        "new_data = []\n",
        "for line in lines_for_data:\n",
        "    new_data.append([preprocess(line[0]), preprocess(line[1]), preprocess(line[2]), line[3]]) "
      ],
      "metadata": {
        "id": "TieZy_ouUC5v"
      },
      "execution_count": null,
      "outputs": []
    },
    {
      "cell_type": "code",
      "source": [
        "df = pd.DataFrame(new_data, columns=['image1', 'image2', 'image3', 'label'])\n",
        "df.to_csv('/content/drive/My Drive/Vision/test_file.csv')"
      ],
      "metadata": {
        "id": "17qbfYfBUGTN"
      },
      "execution_count": null,
      "outputs": []
    }
  ]
}